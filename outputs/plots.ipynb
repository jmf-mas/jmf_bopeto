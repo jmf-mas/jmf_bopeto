{
 "cells": [
  {
   "cell_type": "code",
   "execution_count": 9,
   "id": "d76d0d76",
   "metadata": {},
   "outputs": [],
   "source": [
    "import pandas as pd\n",
    "import matplotlib.pyplot as plt\n",
    "import seaborn as sns\n",
    "import numpy as np\n",
    "from sklearn.decomposition import PCA\n",
    "import matplotlib.pyplot as plt\n",
    "from sklearn.ensemble import IsolationForest"
   ]
  },
  {
   "cell_type": "code",
   "execution_count": 10,
   "id": "a25ef9c5",
   "metadata": {},
   "outputs": [],
   "source": [
    "\n",
    "kdd = pd.read_csv(\"kdd_FGM.csv\")\n",
    "nsl = pd.read_csv(\"nsl_FGM.csv\")\n",
    "ids = pd.read_csv(\"ids_FGM.csv\")\n",
    "ciciot = pd.read_csv(\"ciciot_FGM.csv\")\n",
    "kitsune = pd.read_csv(\"kitsune_FGM.csv\")\n",
    "credit = pd.read_csv(\"credit_FGM.csv\")\n",
    "ecg = pd.read_csv(\"ecg_FGM.csv\")\n",
    "\n",
    "in_kdd = kdd.loc[kdd['r1']==0.,'n1'].values[0]\n",
    "in_ids = ids.loc[ids['r1']==0.,'n1'].values[0]\n",
    "in_kitsune = kitsune.loc[kitsune['r1']==0.,'n1'].values[0]\n",
    "in_ciciot = ciciot.loc[ciciot['r1']==0.,'n1'].values[0]\n",
    "in_credit = credit.loc[credit['r1']==0.,'n1'].values[0]\n",
    "in_ecg = ecg.loc[ecg['r1']==0.,'n1'].values[0]\n",
    "\n",
    "\n",
    "kdd['ratio'] = kdd['n2']*(1-kdd['r2'])/in_kdd\n",
    "ids['ratio'] = ids['n2']*(1-ids['r2'])/in_ids\n",
    "ciciot['ratio'] = ciciot['n2']*(1-ciciot['r2'])/in_ciciot\n",
    "kitsune['ratio'] = kitsune['n2']*(1-kitsune['r2'])/in_kitsune\n",
    "credit['ratio'] = credit['n2']*(1-credit['r2'])/in_credit\n",
    "nsl['ratio'] = nsl['n2']*(1-nsl['r2'])/in_kdd\n",
    "ecg['ratio'] = ecg['n2']*(1-ecg['r2'])/in_ecg\n",
    "\n",
    "kdd['name'] ='kdd'\n",
    "nsl['name'] ='nsl'\n",
    "credit['name'] ='credit'\n",
    "ids['name'] = 'ids'\n",
    "ciciot['name'] ='ciciot'\n",
    "kitsune['name'] = 'kitsune'\n",
    "ecg['name'] = 'ecg'\n",
    "data = pd.concat([kdd, ids, ciciot,kitsune, credit, ecg], ignore_index=True)"
   ]
  },
  {
   "cell_type": "code",
   "execution_count": 11,
   "id": "0ad26a5c",
   "metadata": {},
   "outputs": [
    {
     "data": {
      "text/html": [
       "<div>\n",
       "<style scoped>\n",
       "    .dataframe tbody tr th:only-of-type {\n",
       "        vertical-align: middle;\n",
       "    }\n",
       "\n",
       "    .dataframe tbody tr th {\n",
       "        vertical-align: top;\n",
       "    }\n",
       "\n",
       "    .dataframe thead th {\n",
       "        text-align: right;\n",
       "    }\n",
       "</style>\n",
       "<table border=\"1\" class=\"dataframe\">\n",
       "  <thead>\n",
       "    <tr style=\"text-align: right;\">\n",
       "      <th></th>\n",
       "      <th>metric</th>\n",
       "      <th>n1</th>\n",
       "      <th>n2</th>\n",
       "      <th>r1</th>\n",
       "      <th>r2</th>\n",
       "      <th>ratio</th>\n",
       "      <th>name</th>\n",
       "    </tr>\n",
       "  </thead>\n",
       "  <tbody>\n",
       "    <tr>\n",
       "      <th>0</th>\n",
       "      <td>sdc</td>\n",
       "      <td>1247</td>\n",
       "      <td>1063</td>\n",
       "      <td>0.000000</td>\n",
       "      <td>0.000000</td>\n",
       "      <td>0.852446</td>\n",
       "      <td>ecg</td>\n",
       "    </tr>\n",
       "    <tr>\n",
       "      <th>1</th>\n",
       "      <td>sdc</td>\n",
       "      <td>1334</td>\n",
       "      <td>1126</td>\n",
       "      <td>0.065217</td>\n",
       "      <td>0.063943</td>\n",
       "      <td>0.845229</td>\n",
       "      <td>ecg</td>\n",
       "    </tr>\n",
       "    <tr>\n",
       "      <th>2</th>\n",
       "      <td>sdc</td>\n",
       "      <td>1422</td>\n",
       "      <td>1223</td>\n",
       "      <td>0.123066</td>\n",
       "      <td>0.121832</td>\n",
       "      <td>0.861267</td>\n",
       "      <td>ecg</td>\n",
       "    </tr>\n",
       "    <tr>\n",
       "      <th>3</th>\n",
       "      <td>sdc</td>\n",
       "      <td>1509</td>\n",
       "      <td>1281</td>\n",
       "      <td>0.173625</td>\n",
       "      <td>0.179547</td>\n",
       "      <td>0.842823</td>\n",
       "      <td>ecg</td>\n",
       "    </tr>\n",
       "    <tr>\n",
       "      <th>4</th>\n",
       "      <td>sdc</td>\n",
       "      <td>1597</td>\n",
       "      <td>1288</td>\n",
       "      <td>0.219161</td>\n",
       "      <td>0.212733</td>\n",
       "      <td>0.813152</td>\n",
       "      <td>ecg</td>\n",
       "    </tr>\n",
       "    <tr>\n",
       "      <th>5</th>\n",
       "      <td>sdc</td>\n",
       "      <td>1684</td>\n",
       "      <td>1466</td>\n",
       "      <td>0.259501</td>\n",
       "      <td>0.260573</td>\n",
       "      <td>0.869286</td>\n",
       "      <td>ecg</td>\n",
       "    </tr>\n",
       "    <tr>\n",
       "      <th>6</th>\n",
       "      <td>sdc</td>\n",
       "      <td>1772</td>\n",
       "      <td>1441</td>\n",
       "      <td>0.296275</td>\n",
       "      <td>0.290076</td>\n",
       "      <td>0.820369</td>\n",
       "      <td>ecg</td>\n",
       "    </tr>\n",
       "    <tr>\n",
       "      <th>7</th>\n",
       "      <td>sdc</td>\n",
       "      <td>1859</td>\n",
       "      <td>1560</td>\n",
       "      <td>0.329209</td>\n",
       "      <td>0.321795</td>\n",
       "      <td>0.848436</td>\n",
       "      <td>ecg</td>\n",
       "    </tr>\n",
       "    <tr>\n",
       "      <th>8</th>\n",
       "      <td>sdc</td>\n",
       "      <td>1947</td>\n",
       "      <td>1689</td>\n",
       "      <td>0.359527</td>\n",
       "      <td>0.354056</td>\n",
       "      <td>0.874900</td>\n",
       "      <td>ecg</td>\n",
       "    </tr>\n",
       "    <tr>\n",
       "      <th>9</th>\n",
       "      <td>sdc</td>\n",
       "      <td>2034</td>\n",
       "      <td>1693</td>\n",
       "      <td>0.386922</td>\n",
       "      <td>0.391613</td>\n",
       "      <td>0.825982</td>\n",
       "      <td>ecg</td>\n",
       "    </tr>\n",
       "    <tr>\n",
       "      <th>10</th>\n",
       "      <td>sdc</td>\n",
       "      <td>2122</td>\n",
       "      <td>1756</td>\n",
       "      <td>0.412347</td>\n",
       "      <td>0.410023</td>\n",
       "      <td>0.830794</td>\n",
       "      <td>ecg</td>\n",
       "    </tr>\n",
       "  </tbody>\n",
       "</table>\n",
       "</div>"
      ],
      "text/plain": [
       "   metric    n1    n2        r1        r2     ratio name\n",
       "0     sdc  1247  1063  0.000000  0.000000  0.852446  ecg\n",
       "1     sdc  1334  1126  0.065217  0.063943  0.845229  ecg\n",
       "2     sdc  1422  1223  0.123066  0.121832  0.861267  ecg\n",
       "3     sdc  1509  1281  0.173625  0.179547  0.842823  ecg\n",
       "4     sdc  1597  1288  0.219161  0.212733  0.813152  ecg\n",
       "5     sdc  1684  1466  0.259501  0.260573  0.869286  ecg\n",
       "6     sdc  1772  1441  0.296275  0.290076  0.820369  ecg\n",
       "7     sdc  1859  1560  0.329209  0.321795  0.848436  ecg\n",
       "8     sdc  1947  1689  0.359527  0.354056  0.874900  ecg\n",
       "9     sdc  2034  1693  0.386922  0.391613  0.825982  ecg\n",
       "10    sdc  2122  1756  0.412347  0.410023  0.830794  ecg"
      ]
     },
     "execution_count": 11,
     "metadata": {},
     "output_type": "execute_result"
    }
   ],
   "source": [
    "ecg"
   ]
  },
  {
   "cell_type": "code",
   "execution_count": 8,
   "id": "ddf648e1",
   "metadata": {},
   "outputs": [
    {
     "ename": "ValueError",
     "evalue": "Must have equal len keys and value when setting with an iterable",
     "output_type": "error",
     "traceback": [
      "\u001b[0;31m---------------------------------------------------------------------------\u001b[0m",
      "\u001b[0;31mValueError\u001b[0m                                Traceback (most recent call last)",
      "Cell \u001b[0;32mIn[8], line 8\u001b[0m\n\u001b[1;32m      6\u001b[0m data[\u001b[38;5;124m'\u001b[39m\u001b[38;5;124mid\u001b[39m\u001b[38;5;124m'\u001b[39m] \u001b[38;5;241m=\u001b[39m \u001b[38;5;28mrange\u001b[39m(\u001b[38;5;28mlen\u001b[39m(data))\n\u001b[1;32m      7\u001b[0m data \u001b[38;5;241m=\u001b[39m data\u001b[38;5;241m.\u001b[39msort_values(by\u001b[38;5;241m=\u001b[39m[\u001b[38;5;124m'\u001b[39m\u001b[38;5;124mdataset\u001b[39m\u001b[38;5;124m'\u001b[39m, \u001b[38;5;124m'\u001b[39m\u001b[38;5;124mr1\u001b[39m\u001b[38;5;124m'\u001b[39m])\n\u001b[0;32m----> 8\u001b[0m \u001b[43mdata\u001b[49m\u001b[38;5;241;43m.\u001b[39;49m\u001b[43mloc\u001b[49m\u001b[43m[\u001b[49m\u001b[43mdata\u001b[49m\u001b[43m[\u001b[49m\u001b[38;5;124;43m'\u001b[39;49m\u001b[38;5;124;43mdataset\u001b[39;49m\u001b[38;5;124;43m'\u001b[39;49m\u001b[43m]\u001b[49m\u001b[38;5;241;43m==\u001b[39;49m\u001b[38;5;124;43m'\u001b[39;49m\u001b[38;5;124;43mkdd\u001b[39;49m\u001b[38;5;124;43m'\u001b[39;49m\u001b[43m,\u001b[49m\u001b[43m \u001b[49m\u001b[38;5;124;43m'\u001b[39;49m\u001b[38;5;124;43mid\u001b[39;49m\u001b[38;5;124;43m'\u001b[39;49m\u001b[43m]\u001b[49m \u001b[38;5;241m=\u001b[39m \u001b[38;5;28mrange\u001b[39m(\u001b[38;5;241m11\u001b[39m)\n\u001b[1;32m      9\u001b[0m data\u001b[38;5;241m.\u001b[39mloc[data[\u001b[38;5;124m'\u001b[39m\u001b[38;5;124mdataset\u001b[39m\u001b[38;5;124m'\u001b[39m]\u001b[38;5;241m==\u001b[39m\u001b[38;5;124m'\u001b[39m\u001b[38;5;124mciciot\u001b[39m\u001b[38;5;124m'\u001b[39m, \u001b[38;5;124m'\u001b[39m\u001b[38;5;124mid\u001b[39m\u001b[38;5;124m'\u001b[39m] \u001b[38;5;241m=\u001b[39m \u001b[38;5;28mrange\u001b[39m(\u001b[38;5;241m11\u001b[39m)\n\u001b[1;32m     10\u001b[0m data\u001b[38;5;241m.\u001b[39mloc[data[\u001b[38;5;124m'\u001b[39m\u001b[38;5;124mdataset\u001b[39m\u001b[38;5;124m'\u001b[39m]\u001b[38;5;241m==\u001b[39m\u001b[38;5;124m'\u001b[39m\u001b[38;5;124mids\u001b[39m\u001b[38;5;124m'\u001b[39m, \u001b[38;5;124m'\u001b[39m\u001b[38;5;124mid\u001b[39m\u001b[38;5;124m'\u001b[39m] \u001b[38;5;241m=\u001b[39m \u001b[38;5;28mrange\u001b[39m(\u001b[38;5;241m11\u001b[39m)\n",
      "File \u001b[0;32m~/miniconda3/lib/python3.9/site-packages/pandas/core/indexing.py:818\u001b[0m, in \u001b[0;36m_LocationIndexer.__setitem__\u001b[0;34m(self, key, value)\u001b[0m\n\u001b[1;32m    815\u001b[0m \u001b[38;5;28mself\u001b[39m\u001b[38;5;241m.\u001b[39m_has_valid_setitem_indexer(key)\n\u001b[1;32m    817\u001b[0m iloc \u001b[38;5;241m=\u001b[39m \u001b[38;5;28mself\u001b[39m \u001b[38;5;28;01mif\u001b[39;00m \u001b[38;5;28mself\u001b[39m\u001b[38;5;241m.\u001b[39mname \u001b[38;5;241m==\u001b[39m \u001b[38;5;124m\"\u001b[39m\u001b[38;5;124miloc\u001b[39m\u001b[38;5;124m\"\u001b[39m \u001b[38;5;28;01melse\u001b[39;00m \u001b[38;5;28mself\u001b[39m\u001b[38;5;241m.\u001b[39mobj\u001b[38;5;241m.\u001b[39miloc\n\u001b[0;32m--> 818\u001b[0m \u001b[43miloc\u001b[49m\u001b[38;5;241;43m.\u001b[39;49m\u001b[43m_setitem_with_indexer\u001b[49m\u001b[43m(\u001b[49m\u001b[43mindexer\u001b[49m\u001b[43m,\u001b[49m\u001b[43m \u001b[49m\u001b[43mvalue\u001b[49m\u001b[43m,\u001b[49m\u001b[43m \u001b[49m\u001b[38;5;28;43mself\u001b[39;49m\u001b[38;5;241;43m.\u001b[39;49m\u001b[43mname\u001b[49m\u001b[43m)\u001b[49m\n",
      "File \u001b[0;32m~/miniconda3/lib/python3.9/site-packages/pandas/core/indexing.py:1795\u001b[0m, in \u001b[0;36m_iLocIndexer._setitem_with_indexer\u001b[0;34m(self, indexer, value, name)\u001b[0m\n\u001b[1;32m   1792\u001b[0m \u001b[38;5;66;03m# align and set the values\u001b[39;00m\n\u001b[1;32m   1793\u001b[0m \u001b[38;5;28;01mif\u001b[39;00m take_split_path:\n\u001b[1;32m   1794\u001b[0m     \u001b[38;5;66;03m# We have to operate column-wise\u001b[39;00m\n\u001b[0;32m-> 1795\u001b[0m     \u001b[38;5;28;43mself\u001b[39;49m\u001b[38;5;241;43m.\u001b[39;49m\u001b[43m_setitem_with_indexer_split_path\u001b[49m\u001b[43m(\u001b[49m\u001b[43mindexer\u001b[49m\u001b[43m,\u001b[49m\u001b[43m \u001b[49m\u001b[43mvalue\u001b[49m\u001b[43m,\u001b[49m\u001b[43m \u001b[49m\u001b[43mname\u001b[49m\u001b[43m)\u001b[49m\n\u001b[1;32m   1796\u001b[0m \u001b[38;5;28;01melse\u001b[39;00m:\n\u001b[1;32m   1797\u001b[0m     \u001b[38;5;28mself\u001b[39m\u001b[38;5;241m.\u001b[39m_setitem_single_block(indexer, value, name)\n",
      "File \u001b[0;32m~/miniconda3/lib/python3.9/site-packages/pandas/core/indexing.py:1850\u001b[0m, in \u001b[0;36m_iLocIndexer._setitem_with_indexer_split_path\u001b[0;34m(self, indexer, value, name)\u001b[0m\n\u001b[1;32m   1845\u001b[0m     \u001b[38;5;28;01mif\u001b[39;00m \u001b[38;5;28mlen\u001b[39m(value) \u001b[38;5;241m==\u001b[39m \u001b[38;5;241m1\u001b[39m \u001b[38;5;129;01mand\u001b[39;00m \u001b[38;5;129;01mnot\u001b[39;00m is_integer(info_axis):\n\u001b[1;32m   1846\u001b[0m         \u001b[38;5;66;03m# This is a case like df.iloc[:3, [1]] = [0]\u001b[39;00m\n\u001b[1;32m   1847\u001b[0m         \u001b[38;5;66;03m#  where we treat as df.iloc[:3, 1] = 0\u001b[39;00m\n\u001b[1;32m   1848\u001b[0m         \u001b[38;5;28;01mreturn\u001b[39;00m \u001b[38;5;28mself\u001b[39m\u001b[38;5;241m.\u001b[39m_setitem_with_indexer((pi, info_axis[\u001b[38;5;241m0\u001b[39m]), value[\u001b[38;5;241m0\u001b[39m])\n\u001b[0;32m-> 1850\u001b[0m     \u001b[38;5;28;01mraise\u001b[39;00m \u001b[38;5;167;01mValueError\u001b[39;00m(\n\u001b[1;32m   1851\u001b[0m         \u001b[38;5;124m\"\u001b[39m\u001b[38;5;124mMust have equal len keys and value \u001b[39m\u001b[38;5;124m\"\u001b[39m\n\u001b[1;32m   1852\u001b[0m         \u001b[38;5;124m\"\u001b[39m\u001b[38;5;124mwhen setting with an iterable\u001b[39m\u001b[38;5;124m\"\u001b[39m\n\u001b[1;32m   1853\u001b[0m     )\n\u001b[1;32m   1855\u001b[0m \u001b[38;5;28;01melif\u001b[39;00m lplane_indexer \u001b[38;5;241m==\u001b[39m \u001b[38;5;241m0\u001b[39m \u001b[38;5;129;01mand\u001b[39;00m \u001b[38;5;28mlen\u001b[39m(value) \u001b[38;5;241m==\u001b[39m \u001b[38;5;28mlen\u001b[39m(\u001b[38;5;28mself\u001b[39m\u001b[38;5;241m.\u001b[39mobj\u001b[38;5;241m.\u001b[39mindex):\n\u001b[1;32m   1856\u001b[0m     \u001b[38;5;66;03m# We get here in one case via .loc with a all-False mask\u001b[39;00m\n\u001b[1;32m   1857\u001b[0m     \u001b[38;5;28;01mpass\u001b[39;00m\n",
      "\u001b[0;31mValueError\u001b[0m: Must have equal len keys and value when setting with an iterable"
     ]
    }
   ],
   "source": [
    "#data = data[data['name']!='ids']\n",
    "data = data[data['me']=='sdc']\n",
    "data.rename(columns={'name': 'dataset'}, inplace=True)\n",
    "eps = 0.0000000000000001\n",
    "data['improvement'] = 100*(data.r1-data.r2)/(data.r1+eps)\n",
    "data['id'] = range(len(data))\n",
    "data = data.sort_values(by=['dataset', 'r1'])\n",
    "data.loc[data['dataset']=='kdd', 'id'] = range(11)\n",
    "data.loc[data['dataset']=='ciciot', 'id'] = range(11)\n",
    "data.loc[data['dataset']=='ids', 'id'] = range(11)\n",
    "data.loc[data['dataset']=='kitsune', 'id'] = range(11)\n",
    "data.loc[data['dataset']=='credit', 'id'] = range(11)\n",
    "data.loc[data['dataset']=='ecg', 'id'] = range(11)\n",
    "data.head(40)"
   ]
  },
  {
   "cell_type": "code",
   "execution_count": 6,
   "id": "a643110f",
   "metadata": {},
   "outputs": [],
   "source": [
    "df_1 = pd.read_csv(\"performances_kdd_AE.csv\")\n",
    "df_2 = pd.read_csv(\"performances_kdd_OC-SVM.csv\")\n",
    "df_3 = pd.read_csv(\"performances_kdd_LOF.csv\")\n",
    "df_4 = pd.read_csv(\"performances_kdd_IF.csv\")\n",
    "df_5 = pd.read_csv(\"performances_kdd_svdd.csv\")\n",
    "df_6 = pd.read_csv(\"performances_kdd_dsebm.csv\")\n",
    "df_7 = pd.read_csv(\"performances_kdd_alad.csv\")\n",
    "df_8 = pd.read_csv(\"performances_kdd_dagmm.csv\")\n",
    "df_kdd = pd.concat([df_1, df_2, df_3, df_4, df_5, df_6, df_7, df_8], axis=0, ignore_index=True)"
   ]
  },
  {
   "cell_type": "code",
   "execution_count": 7,
   "id": "051d46ef",
   "metadata": {},
   "outputs": [],
   "source": [
    "df_1 = pd.read_csv(\"performances_kitsune_AE.csv\")\n",
    "df_2 = pd.read_csv(\"performances_kitsune_OC-SVM.csv\")\n",
    "df_3 = pd.read_csv(\"performances_kitsune_LOF.csv\")\n",
    "df_4 = pd.read_csv(\"performances_kitsune_IF.csv\")\n",
    "df_5 = pd.read_csv(\"performances_kitsune_svdd.csv\")\n",
    "df_6 = pd.read_csv(\"performances_kitsune_dsebm.csv\")\n",
    "df_7 = pd.read_csv(\"performances_kitsune_alad.csv\")\n",
    "df_8 = pd.read_csv(\"performances_kitsune_dagmm.csv\")\n",
    "df_kitsune = pd.concat([df_1, df_2, df_3, df_4, df_5, df_6, df_7,df_8], axis=0, ignore_index=True)"
   ]
  },
  {
   "cell_type": "code",
   "execution_count": null,
   "id": "f0f631d0",
   "metadata": {
    "scrolled": true
   },
   "outputs": [],
   "source": [
    "df_1 = pd.read_csv(\"performances_ciciot_AE.csv\")\n",
    "df_2 = pd.read_csv(\"performances_ciciot_OC-SVM.csv\")\n",
    "df_3 = pd.read_csv(\"performances_ciciot_LOF.csv\")\n",
    "df_4 = pd.read_csv(\"performances_ciciot_IF.csv\")\n",
    "df_5 = pd.read_csv(\"performances_ciciot_svdd.csv\")\n",
    "df_6 = pd.read_csv(\"performances_ciciot_dsebm.csv\")\n",
    "df_7 = pd.read_csv(\"performances_ciciot_alad.csv\")\n",
    "df_8 = pd.read_csv(\"performances_ciciot_dagmm.csv\")\n",
    "df_ciciot = pd.concat([df_1, df_2, df_3, df_4, df_5, df_6, df_7, df_8], axis=0, ignore_index=True)"
   ]
  },
  {
   "cell_type": "code",
   "execution_count": null,
   "id": "3c61607c",
   "metadata": {},
   "outputs": [],
   "source": [
    "df_1 = pd.read_csv(\"performances_ids_AE.csv\")\n",
    "df_2 = pd.read_csv(\"performances_ids_OC-SVM.csv\")\n",
    "df_3 = pd.read_csv(\"performances_ids_LOF.csv\")\n",
    "df_4 = pd.read_csv(\"performances_ids_IF.csv\")\n",
    "df_5 = pd.read_csv(\"performances_ids_svdd.csv\")\n",
    "df_6 = pd.read_csv(\"performances_ids_dsebm.csv\")\n",
    "df_7 = pd.read_csv(\"performances_ids_alad.csv\")\n",
    "df_8 = pd.read_csv(\"performances_ids_dagmm.csv\")\n",
    "df_ids = pd.concat([df_1, df_2,  df_3, df_4, df_5, df_6, df_7,df_8], axis=0, ignore_index=True)"
   ]
  },
  {
   "cell_type": "code",
   "execution_count": null,
   "id": "99d7ba13",
   "metadata": {},
   "outputs": [],
   "source": [
    "df_1 = pd.read_csv(\"performances_ecg_AE.csv\")\n",
    "df_2 = pd.read_csv(\"performances_ecg_OC-SVM.csv\")\n",
    "df_3 = pd.read_csv(\"performances_ecg_LOF.csv\")\n",
    "df_4 = pd.read_csv(\"performances_ecg_IF.csv\")\n",
    "df_5 = pd.read_csv(\"performances_ecg_svdd.csv\")\n",
    "df_6 = pd.read_csv(\"performances_ecg_dsebm.csv\")\n",
    "df_7 = pd.read_csv(\"performances_ecg_alad.csv\")\n",
    "df_8 = pd.read_csv(\"performances_ecg_dagmm.csv\")\n",
    "df_ecg = pd.concat([df_1, df_2, df_3, df_4, df_5, df_6, df_7, df_8], axis=0, ignore_index=True)"
   ]
  },
  {
   "cell_type": "code",
   "execution_count": null,
   "id": "57c5c242",
   "metadata": {},
   "outputs": [],
   "source": [
    "a = pd.read_csv(\"performances_ids_svdd.csv\")\n",
    "b = a.copy()\n",
    "b.iloc[3, 3:] = b.iloc[4, 3:]\n",
    "b.iloc[8, 3:] = b.iloc[7, 3:]\n",
    "b"
   ]
  },
  {
   "cell_type": "code",
   "execution_count": null,
   "id": "8c2816d2",
   "metadata": {},
   "outputs": [],
   "source": [
    "df_1 = pd.read_csv(\"performances_credit_AE.csv\")\n",
    "df_2 = pd.read_csv(\"performances_credit_OC-SVM.csv\")\n",
    "df_3 = pd.read_csv(\"performances_credit_LOF.csv\")\n",
    "df_4 = pd.read_csv(\"performances_credit_IF.csv\")\n",
    "df_5 = pd.read_csv(\"performances_credit_svdd.csv\")\n",
    "df_6 = pd.read_csv(\"performances_credit_dsebm.csv\")\n",
    "df_7 = pd.read_csv(\"performances_credit_alad.csv\")\n",
    "df_8 = pd.read_csv(\"performances_credit_dagmm.csv\")\n",
    "df_credit = pd.concat([df_1, df_2, df_3, df_4, df_5, df_6, df_7, df_8], axis=0, ignore_index=True)"
   ]
  },
  {
   "cell_type": "code",
   "execution_count": null,
   "id": "3ab3c4aa",
   "metadata": {},
   "outputs": [],
   "source": [
    "df_perf = pd.concat([df_kdd, df_kitsune, df_ciciot, df_ecg, df_ids, df_credit], axis=0, ignore_index=True)\n",
    "df_perf = df_perf.sort_values(by='dataset')"
   ]
  },
  {
   "cell_type": "code",
   "execution_count": null,
   "id": "5f95512a",
   "metadata": {},
   "outputs": [],
   "source": [
    "df_perf[df_perf[\"model\"]==\"Bopeto_svdd\"].head()"
   ]
  },
  {
   "cell_type": "code",
   "execution_count": null,
   "id": "4a5e0503",
   "metadata": {},
   "outputs": [],
   "source": [
    "sub_df = df_perf[['dataset', 'contamination']].copy()\n",
    "sub_df['contamination'] = sub_df['contamination']*100\n",
    "sub_df = sub_df.drop_duplicates().groupby(\"dataset\")['contamination'].apply(lambda x: sorted(x)).to_dict()\n",
    "\n",
    "keys = list(sub_df.keys())\n",
    "for key in keys:\n",
    "    sub_df[key] = np.diff(sub_df[key])\n",
    "contaminations = {}\n",
    "size = len(sub_df[\"kitsune\"])\n",
    "for i in range(size):\n",
    "    contaminations[i] = [sub_df[\"ciciot\"][i], sub_df[\"credit\"][i], sub_df[\"ecg\"][i], \n",
    "           sub_df[\"ids\"][i], sub_df[\"kdd\"][i], sub_df[\"kitsune\"][i]]\n",
    " "
   ]
  },
  {
   "cell_type": "code",
   "execution_count": null,
   "id": "e9e62931",
   "metadata": {},
   "outputs": [],
   "source": [
    "fig, ax = plt.subplots(ncols=3, figsize=(9, 3))\n",
    "cond = data['dataset']=='ciciot'\n",
    "width = 0.5\n",
    "bottom = np.zeros(6) \n",
    "for boolean, weight_count in contaminations.items():\n",
    "    p = ax[0].bar(keys, weight_count, width, label=boolean, bottom=bottom)\n",
    "    bottom += weight_count\n",
    "ax[0].set_ylabel('contamination rate (%)')\n",
    "ax[0].legend().remove()\n",
    "ax[0].set_xticklabels(keys, rotation=90)\n",
    "\n",
    "\n",
    "sns.lineplot(data=data, x=data.id, y=data.improvement, hue='dataset', ax=ax[1], marker='X')\n",
    "#ax.set_title(f'{subplot}'.upper())\n",
    "ax[1].set_xlabel('ith contamination') \n",
    "ax[2].set_ylabel('size of cleaned data (%)')\n",
    "sns.lineplot(data=data, x=data.id, y=100*data.ratio, hue='dataset', ax=ax[2], marker='X')\n",
    "ax[2].set_xlabel('ith contamination') \n",
    "ax[1].set_ylabel('contamination reduction (%)')\n",
    "ax[1].axhline(y=0, color='black', linestyle='--', linewidth=0.8)\n",
    "ax[1].legend().remove()\n",
    "ax[1].set_xticks([])\n",
    "ax[2].set_xticks([])\n",
    "ax[1].set_ylim(-10, 110)\n",
    "ax[2].set_ylim(-10, 110)\n",
    "plt.tight_layout()\n",
    "plt.savefig(\"cleaning_ratio.pdf\")\n",
    "plt.show()"
   ]
  },
  {
   "cell_type": "code",
   "execution_count": null,
   "id": "9e59d91b",
   "metadata": {},
   "outputs": [],
   "source": [
    "metrics = [\"f1\", \"accuracy\", \"precision\", \"recall\"]\n",
    "color_palette_ = {\n",
    "    \"IF\": \"blue\",\n",
    "    \"LOF\": \"red\",\n",
    "    \"OC-SVM\": \"green\",\n",
    "    \"AE\": \"magenta\",\n",
    "    \"dsebm\": \"gray\",\n",
    "    \"alad\": \"brown\",\n",
    "    \"svdd\": \"purple\",\n",
    "    \"dagmm\": \"cyan\" \n",
    "}\n",
    "for metric in metrics:\n",
    "    degration = df_perf[~df_perf['model'].str.contains('Bopeto')]\n",
    "    fig, axes = plt.subplots(ncols=6, figsize=(12, 2.7), sharey=True)\n",
    "    for i, (ax, (subplot, df_group)) in enumerate(zip(axes, degration.groupby('dataset'))):\n",
    "        sns.lineplot(data=df_group, x=df_group.contamination, y=metric, hue='model', ax=ax, marker='X', palette=color_palette_)\n",
    "        ax.set_title(f'{subplot}'.upper())\n",
    "        ax.set_xlabel('')\n",
    "        ax.set_xticks([])\n",
    "        if metric==\"f1\":\n",
    "            ax.set_ylabel(r'F$_1$ score')\n",
    "        else:\n",
    "            ax.set_ylabel(metric)\n",
    "        ax.set_ylim(-0.1, 1.1)\n",
    "        if i != 2 or metric!=\"f1\":\n",
    "            ax.legend().remove()\n",
    "        else:\n",
    "            legend = ax.legend()\n",
    "            if legend:\n",
    "                for label in legend.get_texts():\n",
    "                    label.set_fontsize('xx-small')\n",
    "                    label.set_font('bold')\n",
    "            ax.legend(loc='lower center', bbox_to_anchor=(1., -0.21), ncol=8)\n",
    "            #ax.legend().get_frame().set_linewidth(1)\n",
    "    plt.tight_layout()\n",
    "    plt.savefig(\"degration_\"+metric+\".pdf\")\n",
    "    plt.show()"
   ]
  },
  {
   "cell_type": "code",
   "execution_count": null,
   "id": "e4c25373",
   "metadata": {},
   "outputs": [],
   "source": [
    "degration_perf = df_perf[~df_perf['model'].str.contains('Bopeto')]\n",
    "degration_perf.groupby('dataset')['accuracy'].agg(['mean', 'std'])"
   ]
  },
  {
   "cell_type": "code",
   "execution_count": null,
   "id": "eac93003",
   "metadata": {},
   "outputs": [],
   "source": [
    "df_perf[df_perf['contamination']==0].head(10)"
   ]
  },
  {
   "cell_type": "code",
   "execution_count": null,
   "id": "9a73698b",
   "metadata": {},
   "outputs": [],
   "source": [
    "def sort_group(group):\n",
    "    return group.sort_values(by='dataset')"
   ]
  },
  {
   "cell_type": "code",
   "execution_count": null,
   "id": "eb1cf3d4",
   "metadata": {},
   "outputs": [],
   "source": [
    "df_perf.head()"
   ]
  },
  {
   "cell_type": "code",
   "execution_count": null,
   "id": "34c3d5d5",
   "metadata": {},
   "outputs": [],
   "source": [
    "models = [\"AE\", \"OC-SVM\", \"LOF\", \"IF\", \"svdd\", \"alad\", \"dsebm\", \"dagmm\"]\n",
    "names = [\"CICIOT\", \"CREDIT\", \"ECG\", \"IDS\", \"KDD\", \"KITSUNE\"]"
   ]
  },
  {
   "cell_type": "code",
   "execution_count": null,
   "id": "e8b83998",
   "metadata": {},
   "outputs": [],
   "source": [
    "def get_diff(model, dataset):\n",
    "    n_db = pd.DataFrame([])\n",
    "    ds = df_perf[(df_perf[\"dataset\"]==dataset) & (df_perf[\"model\"]==model)]\n",
    "    ds_b = df_perf[(df_perf[\"dataset\"]==dataset) & (df_perf[\"model\"]==\"Bopeto_\"+model)]\n",
    "    contamination = np.unique(ds[\"contamination\"].values)\n",
    "    diff_acc = []\n",
    "    diff_f1 = []\n",
    "    diff_prec = []\n",
    "    diff_rec = []\n",
    "    for c in contamination:\n",
    "        acc = ds_b.loc[ds_b['contamination']==c, \"accuracy\"].values[0]\n",
    "        acc -= ds.loc[ds['contamination']==c, \"accuracy\"].values[0]\n",
    "        diff_acc.append(acc)\n",
    "        f1 = ds_b.loc[ds_b['contamination']==c, \"f1\"].values[0]\n",
    "        f1 -= ds.loc[ds['contamination']==c, \"f1\"].values[0]\n",
    "        diff_f1.append(f1)\n",
    "        prec = ds_b.loc[ds_b['contamination']==c, \"precision\"].values[0]\n",
    "        prec -= ds.loc[ds['contamination']==c, \"precision\"].values[0]\n",
    "        diff_prec.append(prec)\n",
    "        rec = ds_b.loc[ds_b['contamination']==c, \"recall\"].values[0]\n",
    "        rec -= ds.loc[ds['contamination']==c, \"recall\"].values[0]\n",
    "        diff_rec.append(rec)\n",
    "    n_db[\"accuracy\"] = diff_acc\n",
    "    n_db[\"precision\"] = diff_prec\n",
    "    n_db[\"f1\"] = diff_f1\n",
    "    n_db[\"recall\"] = diff_rec\n",
    "    n_db[\"contamination\"] = contamination\n",
    "    n_db[\"dataset\"]=dataset\n",
    "    n_db[\"model\"] = model\n",
    "    n_db[\"id\"]=range(len(contamination))\n",
    "    return n_db\n",
    "    "
   ]
  },
  {
   "cell_type": "code",
   "execution_count": null,
   "id": "90cfb555",
   "metadata": {},
   "outputs": [],
   "source": [
    "get_diff(\"svdd\", \"ecg\")"
   ]
  },
  {
   "cell_type": "code",
   "execution_count": null,
   "id": "f3ebe43f",
   "metadata": {},
   "outputs": [],
   "source": [
    "difference = pd.DataFrame([])\n",
    "for d_name in names:\n",
    "    for m_name in models:\n",
    "        difference = pd.concat([difference, get_diff(m_name, d_name.lower())], ignore_index=True)"
   ]
  },
  {
   "cell_type": "code",
   "execution_count": null,
   "id": "996b8c95",
   "metadata": {},
   "outputs": [],
   "source": [
    "markers = ['o', 's', 'D', '^', 'v', '>', '<', 'x', '+', '*']\n",
    "color_palette = {\n",
    "    \"kdd\": \"blue\",\n",
    "    \"ecg\": \"red\",\n",
    "    \"credit\": \"green\",\n",
    "    \"ciciot\": \"magenta\",\n",
    "    \"ids\": \"gray\",\n",
    "    \"kitsune\": \"brown\"  \n",
    "}\n",
    "for metric in metrics:\n",
    "    robustness = difference.sort_values(by='contamination')\n",
    "    fig, axes = plt.subplots(ncols=8, figsize=(16, 3), sharey=True)\n",
    "    for i, (ax, (subplot, df_group)) in enumerate(zip(axes, robustness.groupby('model'))):\n",
    "        sns.lineplot(data=df_group, x=df_group.id, y=metric, hue='dataset', ax=ax, marker='X', palette=color_palette)\n",
    "        ax.set_title(f'{subplot}'.upper())\n",
    "        ax.set_xlabel('')\n",
    "        ax.axhline(y=0, color='black', linestyle='--', linewidth=0.8)\n",
    "        ax.set_xticks([])\n",
    "        if metric==\"f1\":\n",
    "            ax.set_ylabel(r'$\\Delta$ F$_1$ score')\n",
    "        else:    \n",
    "            ax.set_ylabel(r'$\\Delta$ {}'.format(metric))\n",
    "\n",
    "        if i != 0 or metric!=\"f1\":\n",
    "            ax.legend().remove()\n",
    "        else:\n",
    "            legend = ax.legend()\n",
    "            if legend:\n",
    "                for label in legend.get_texts():\n",
    "                    label.set_fontsize('xx-small')\n",
    "                    label.set_font('bold')\n",
    "                ax.legend(loc='lower center', bbox_to_anchor=(4.3, -0.21), ncol=6)\n",
    "    plt.tight_layout()\n",
    "    plt.savefig(metric+\"_difference.pdf\")\n",
    "    plt.show()"
   ]
  },
  {
   "cell_type": "code",
   "execution_count": null,
   "id": "5fbf2a92",
   "metadata": {},
   "outputs": [],
   "source": [
    "def swap_prefix(name):\n",
    "    if '_' in name:\n",
    "        parts = name.split('_')\n",
    "        return f\"{parts[1]}_{parts[0]}\"\n",
    "    else:\n",
    "        return name"
   ]
  },
  {
   "cell_type": "code",
   "execution_count": null,
   "id": "da66b92c",
   "metadata": {},
   "outputs": [],
   "source": [
    "def get_detail_summary(df_perf, metric):\n",
    "    grouped_perf = df_perf.groupby(['model', 'dataset']).agg({metric: ['mean', 'std']})\n",
    "    grouped_perf.columns = ['_'.join(col).strip() for col in grouped_perf.columns.values]\n",
    "    grouped_perf[metric+'_mean'] = grouped_perf[metric+'_mean'].round(3)\n",
    "    grouped_perf[metric+'_std'] = grouped_perf[metric+'_std'].round(3)\n",
    "    grouped_perf[metric] = grouped_perf[metric+'_mean'].astype(str) + ' ± ' + grouped_perf[metric+'_std'].astype(str)\n",
    "    pivot_df = grouped_perf.reset_index().pivot(index='model', columns='dataset', values=metric)\n",
    "    pivot_df.rename(index=lambda x: swap_prefix(x), inplace=True)\n",
    "    pivot_df.sort_index(inplace=True)\n",
    "    return pivot_df"
   ]
  },
  {
   "cell_type": "code",
   "execution_count": null,
   "id": "341e99ac",
   "metadata": {},
   "outputs": [],
   "source": [
    "def remove_sign(value):\n",
    "    if isinstance(value, str):\n",
    "        parts = value.split(' ± ')\n",
    "        if len(parts) > 1:\n",
    "            return float(parts[0])  # Convert the value to float\n",
    "    return value"
   ]
  },
  {
   "cell_type": "code",
   "execution_count": null,
   "id": "34d29c57",
   "metadata": {},
   "outputs": [],
   "source": [
    "def get_general_summary(df):\n",
    "    data = df.applymap(remove_sign)\n",
    "    df_basic = data[~data.index.str.contains('Bopeto')] \n",
    "    df_basic.sort_index(inplace=True)\n",
    "    df_bopeto = data[data.index.str.contains('Bopeto')] \n",
    "    df_bopeto.sort_index(inplace=True)\n",
    "    diff = df_bopeto.values - df_basic.values\n",
    "    return pd.DataFrame(data=diff, index=df_basic.index, columns=df_basic.columns)"
   ]
  },
  {
   "cell_type": "code",
   "execution_count": null,
   "id": "95016f4b",
   "metadata": {},
   "outputs": [],
   "source": [
    "def get_latex(df, metric):\n",
    "    return df.to_latex(index=False, \n",
    "                          caption='Example Table', \n",
    "                          label='tab:summary_'+metric, \n",
    "                          column_format='|c|c|c|c|c|c|c|')"
   ]
  },
  {
   "cell_type": "code",
   "execution_count": null,
   "id": "067464b6",
   "metadata": {},
   "outputs": [],
   "source": [
    "f1_df = get_detail_summary(df_perf, \"f1\")\n",
    "f1_df"
   ]
  },
  {
   "cell_type": "code",
   "execution_count": null,
   "id": "acda05a3",
   "metadata": {},
   "outputs": [],
   "source": [
    "#print(get_latex(f1_df, \"f1\"))"
   ]
  },
  {
   "cell_type": "code",
   "execution_count": null,
   "id": "9c129b84",
   "metadata": {},
   "outputs": [],
   "source": [
    "gen = get_general_summary(f1_df)\n",
    "gen.stack().mean(), gen.stack().std()"
   ]
  },
  {
   "cell_type": "code",
   "execution_count": null,
   "id": "ee13b50d",
   "metadata": {},
   "outputs": [],
   "source": [
    "prec_df = get_detail_summary(df_perf, \"precision\")\n",
    "prec_df"
   ]
  },
  {
   "cell_type": "code",
   "execution_count": null,
   "id": "d56233b9",
   "metadata": {},
   "outputs": [],
   "source": [
    "gen = get_general_summary(prec_df)\n",
    "gen.stack().mean(), gen.stack().std()"
   ]
  },
  {
   "cell_type": "code",
   "execution_count": null,
   "id": "822101e3",
   "metadata": {
    "scrolled": true
   },
   "outputs": [],
   "source": [
    "rec_df = get_detail_summary(df_perf, \"recall\")\n",
    "rec_df"
   ]
  },
  {
   "cell_type": "code",
   "execution_count": null,
   "id": "bab44671",
   "metadata": {},
   "outputs": [],
   "source": [
    "gen = get_general_summary(rec_df)\n",
    "gen.stack().mean(), gen.stack().std()"
   ]
  },
  {
   "cell_type": "code",
   "execution_count": null,
   "id": "85120c8b",
   "metadata": {},
   "outputs": [],
   "source": [
    "acc_df = get_detail_summary(df_perf, \"accuracy\")\n",
    "acc_df"
   ]
  },
  {
   "cell_type": "code",
   "execution_count": null,
   "id": "6e285a15",
   "metadata": {},
   "outputs": [],
   "source": [
    "gen = get_general_summary(acc_df)\n",
    "gen.stack().mean(), gen.stack().std()"
   ]
  },
  {
   "cell_type": "code",
   "execution_count": null,
   "id": "6fc72a7e",
   "metadata": {},
   "outputs": [],
   "source": [
    "for metric in metrics:\n",
    "    for model in models:\n",
    "        palette ={'Bopeto_'+model: 'blue', model: 'red'}\n",
    "        robustness = df_perf[df_perf['model'].str.contains(model)]\n",
    "        robustness = robustness.sort_values(by='dataset')\n",
    "        fig, axes = plt.subplots(ncols=6, figsize=(9, 2), sharey=True)\n",
    "        for i, (ax, (subplot, df_group)) in enumerate(zip(axes, robustness.groupby('dataset'))):\n",
    "            sns.lineplot(data=df_group, x=df_group.contamination, y=metric, hue='model', ax=ax, marker='X', palette=palette)\n",
    "            ax.set_title(f'{subplot}'.upper())\n",
    "            ax.set_xlabel('')\n",
    "            if metric==\"f1\":\n",
    "                ax.set_ylabel(r'F$_1$ score')\n",
    "            else:\n",
    "                ax.set_ylabel(metric)\n",
    "            ax.set_ylim(-0.1, 1.1)\n",
    "\n",
    "            if i != 0:\n",
    "                ax.legend().remove()\n",
    "            else:\n",
    "                ax.legend(loc='lower center', bbox_to_anchor=(2.5, -0.35), ncol=2)\n",
    "        plt.tight_layout()\n",
    "        plt.savefig(model+\"_\"+metric+\"_robustness.pdf\")\n",
    "        plt.show()"
   ]
  },
  {
   "cell_type": "code",
   "execution_count": null,
   "id": "e9896c9f",
   "metadata": {},
   "outputs": [],
   "source": [
    "df_group"
   ]
  },
  {
   "cell_type": "code",
   "execution_count": null,
   "id": "35bbd0ab",
   "metadata": {},
   "outputs": [],
   "source": [
    "dd_ecg = np.load(\"../data/ecg.npz\", allow_pickle=True) \n",
    "dd_credit = np.load(\"../data/credit.npz\", allow_pickle=True) \n",
    "data1_ecg = pd.DataFrame(dd_ecg['ecg'])\n",
    "data1_credit = pd.DataFrame(dd_credit['credit'])"
   ]
  },
  {
   "cell_type": "code",
   "execution_count": null,
   "id": "82812e48",
   "metadata": {},
   "outputs": [],
   "source": [
    "np.unique(data1_credit.values[:, -1])"
   ]
  },
  {
   "cell_type": "code",
   "execution_count": null,
   "id": "796e613e",
   "metadata": {},
   "outputs": [],
   "source": [
    "data1_kdd = pd.read_csv(\"kdd.csv\")\n",
    "data1_ids = pd.read_csv(\"ids.csv\")\n",
    "data1_ciciot = pd.read_csv(\"ciciot.csv\")\n",
    "data_kitsune = pd.read_csv(\"kitsune.csv\")"
   ]
  },
  {
   "cell_type": "code",
   "execution_count": null,
   "id": "4dc79126",
   "metadata": {},
   "outputs": [],
   "source": [
    "\n",
    "datasets = [data1_ciciot, data1_credit, data1_ecg, data1_ids, data1_kdd, data_kitsune]\n",
    "pca = PCA(n_components=2)\n",
    "fig, axs = plt.subplots(1, 6, figsize=(20, 5))\n",
    "replacement_dict = {\n",
    "    0: 'in',\n",
    "    1: 'out',\n",
    "    2: 'synthetic'\n",
    "}\n",
    "for i, xy in enumerate(datasets):\n",
    "    \n",
    "    x, y = xy.values[:, :-1], xy.values[:, -1]\n",
    "    reduced_data = pca.fit_transform(x)\n",
    "    df_pca = pd.DataFrame(reduced_data, columns=['PC1', 'PC2'])\n",
    "    df_pca['target'] = y\n",
    "    df_pca['target'] = df_pca['target'].replace(replacement_dict)\n",
    "    df_pca = df_pca[df_pca['target']!='synthetic']\n",
    "\n",
    "    sns.scatterplot(data=df_pca, x='PC1', y='PC2', hue='target', ax=axs[i], palette={'in':'blue', 'out':'red', 'synthetic':'green'}, legend=(i==0))\n",
    "    axs[i].set_title(names[i])\n",
    "    axs[i].set_xlabel('')\n",
    "    axs[i].set_ylabel('')\n",
    "    if i == 0:\n",
    "        axs[i].legend(title='')\n",
    "    else:\n",
    "        axs[i].legend([],[], frameon=False)\n",
    "\n",
    "plt.tight_layout()\n",
    "plt.savefig(\"synthetic.png\")\n",
    "plt.show()\n"
   ]
  },
  {
   "cell_type": "code",
   "execution_count": null,
   "id": "77260f4e",
   "metadata": {},
   "outputs": [],
   "source": [
    "def sdc(dynamics):\n",
    "    return np.std(np.diff(dynamics, axis=1), axis=1)"
   ]
  },
  {
   "cell_type": "code",
   "execution_count": null,
   "id": "6c961df7",
   "metadata": {},
   "outputs": [],
   "source": [
    "kdd_1 = np.loadtxt(\"kdd_FGM_sdc_ae_rate_0.18821442994855225.csv\", delimiter=',')\n",
    "ids_1 = np.loadtxt(\"ids_FGM_sdc_ae_rate_0.15585998801128825.csv\", delimiter=',')\n",
    "credit_1 = np.loadtxt(\"credit_FGM_sdc_ae_rate_0.0012223312434517968.csv\", delimiter=',')\n",
    "ecg_1 = np.loadtxt(\"ecg_FGM_sdc_ae_rate_0.21916092673763307.csv\", delimiter=',')\n",
    "ciciot_1 = np.loadtxt(\"ciciot_FGM_sdc_ae_rate_0.19310100024086915.csv\", delimiter=',')\n",
    "kitsune_1 = np.loadtxt(\"kitsune_FGM_sdc_ae_rate_0.0701628076642476.csv\", delimiter=',')"
   ]
  },
  {
   "cell_type": "code",
   "execution_count": null,
   "id": "058d61b3",
   "metadata": {},
   "outputs": [],
   "source": [
    "x_kdd, y_kdd = kdd_1[:, :-1], kdd_1[:, -1]\n",
    "x_ids, y_ids = ids_1[:, :-1], ids_1[:, -1]\n",
    "x_ciciot, y_ciciot = ciciot_1[:, :-1], ciciot_1[:, -1]\n",
    "x_kitsune, y_kitsune = kitsune_1[:, :-1], kitsune_1[:, -1]\n",
    "x_credit, y_credit = credit_1[:, :-1], credit_1[:, -1]\n",
    "x_ecg, y_ecg = ecg_1[:, :-1], ecg_1[:, -1]"
   ]
  },
  {
   "cell_type": "code",
   "execution_count": null,
   "id": "c9063855",
   "metadata": {},
   "outputs": [],
   "source": [
    "m = 'score'\n",
    "mac_kdd = sdc(x_kdd)\n",
    "mac_ids = sdc(x_ids)\n",
    "mac_ciciot = sdc(x_ciciot)\n",
    "mac_kitsune = sdc(x_kitsune)\n",
    "mac_credit = sdc(x_credit)\n",
    "mac_ecg = sdc(x_ecg)"
   ]
  },
  {
   "cell_type": "code",
   "execution_count": null,
   "id": "448e1a7d",
   "metadata": {},
   "outputs": [],
   "source": [
    "mapping = {0: 'in', 1: 'out', 2:'synthetic'}\n",
    "def clean(dynamics, target, n=1000):\n",
    "    detector = IsolationForest(n_estimators=50, random_state=42)\n",
    "    df = pd.DataFrame(data = dynamics, columns=[m])\n",
    "    df['class'] = target\n",
    "    df['class'] = df['class'].replace(mapping)\n",
    "    y_pred = detector.fit_predict(dynamics.reshape(-1, 1))\n",
    "    anomaly_scores = detector.decision_function(dynamics.reshape(-1, 1))\n",
    "    out = anomaly_scores[y_pred==-1]\n",
    "    in_ = anomaly_scores[y_pred==1]\n",
    "    threshold = (np.max(out)+np.min(in_))/2\n",
    "    threshold = np.percentile(out, np.random.randint(60, 70, 1)[0])\n",
    "    y_pred = anomaly_scores >= threshold\n",
    "\n",
    "    df[m] = anomaly_scores\n",
    "    y = y_pred==1\n",
    "    sample = df.sample(n=n)\n",
    "    selected = df.index.isin(sample.index)\n",
    "    cleaned = df[y & selected].copy()\n",
    "    return sample, cleaned, threshold "
   ]
  },
  {
   "cell_type": "code",
   "execution_count": null,
   "id": "8d17518b",
   "metadata": {},
   "outputs": [],
   "source": [
    "all_data = [clean(mac_ciciot, y_ciciot), clean(mac_credit, y_credit), \n",
    "            clean(mac_ecg, y_ecg), clean(mac_ids, y_ids), \n",
    "            clean(mac_kdd, y_kdd), clean(mac_kitsune, y_kitsune)]\n"
   ]
  },
  {
   "cell_type": "code",
   "execution_count": null,
   "id": "f4c84df3",
   "metadata": {
    "scrolled": true
   },
   "outputs": [],
   "source": [
    "fig, axes = plt.subplots(2, 6, figsize=(9, 3))\n",
    "datasets = [\"CICIOT\", \"CREDIT\", \"ECG\", \"IDS\", \"KDD\", \"KISTUNE\"]\n",
    "palette = {\"out\":\"red\", \"synthetic\":\"green\", \"in\":\"blue\"}\n",
    "for i, df in enumerate(all_data):\n",
    "    for j in range(1):\n",
    "        d = df[j]\n",
    "        d = d.sort_index()\n",
    "        ax = axes[0, i]\n",
    "        sns.scatterplot(data=d, x=d.index, y=m, hue='class', ax=ax, palette=palette, s=10)\n",
    "        ax.axhline(y=df[2], color='r', linestyle='-')\n",
    "        ax.set_ylabel(None)\n",
    "        if j==0:\n",
    "            ax.set_title(datasets[i])\n",
    "        if i!=0 or j!=1:\n",
    "            ax.legend().remove()\n",
    "        else:\n",
    "            legend = ax.legend()\n",
    "            if legend:\n",
    "                for label in legend.get_texts():\n",
    "                    label.set_fontsize('xx-small')\n",
    "        \n",
    "        \n",
    "        ax.set_xticks([])\n",
    "        ax = axes[1, i]\n",
    "        sns.kdeplot(data= d, x='score', hue='class', fill=True, ax=ax, palette=palette)\n",
    "        ax.legend().remove()\n",
    "        ax.set_xticks([])\n",
    "        ax.set_xlabel(None)\n",
    "        ax.set_ylabel(None)\n",
    "        if i!=0:\n",
    "            axes[0, i].set_ylabel('')\n",
    "            axes[1, i].set_ylabel('')\n",
    "        else:\n",
    "            pass\n",
    "            #axes[1, 0].set_ylabel('density')\n",
    "        ax.set_ylim(0, 16)\n",
    "plt.tight_layout()\n",
    "plt.savefig(\"dynamics_space.png\")\n",
    "plt.show()"
   ]
  },
  {
   "cell_type": "code",
   "execution_count": null,
   "id": "cccc66b9",
   "metadata": {},
   "outputs": [],
   "source": [
    "d"
   ]
  },
  {
   "cell_type": "code",
   "execution_count": null,
   "id": "a6d7bf5d",
   "metadata": {},
   "outputs": [],
   "source": [
    "fig, axes = plt.subplots(1, 3, figsize=(8, 3), sharey=True)\n",
    "thresholds = [0.008, 0.015, 0.02]\n",
    "for i, df in enumerate([df_kdd.sample(n=1000), df_ciciot.sample(n=1000), df_kitsune.sample(n=1000)]):\n",
    "    ax = axes[i]\n",
    "    sns.scatterplot(data=df, x=df.index, y=m, hue='class', ax=ax, palette=palette)\n",
    "    ax.set_title(datasets[i])\n",
    "    ax.axhline(y=thresholds[i], color='r', linestyle='-')\n",
    "    if i!=0:\n",
    "        ax.legend().remove()\n",
    "    ax.set_xticks([])\n",
    "plt.tight_layout()\n",
    "plt.savefig(\"dynamics_space_threshold.png\")\n",
    "plt.show()\n",
    "\n",
    "\n",
    "    "
   ]
  },
  {
   "cell_type": "code",
   "execution_count": null,
   "id": "5e79dd1f",
   "metadata": {},
   "outputs": [],
   "source": [
    "x_kdd.shape"
   ]
  },
  {
   "cell_type": "code",
   "execution_count": null,
   "id": "7b1e20fd",
   "metadata": {},
   "outputs": [],
   "source": [
    "import numpy as np\n",
    "import matplotlib.pyplot as plt\n",
    "\n",
    "# Sample data: 6 sequence matrices with three categories\n",
    "num_matrices = 6\n",
    "num_sequences = 100\n",
    "sequence_length = 50\n",
    "num_categories = 3\n",
    "\n",
    "sequences = [x_ciciot, x_credit, x_ecg, x_ids, x_kdd, x_kitsune]\n",
    "labels = [y_ciciot, y_credit, y_ecg, y_ids, y_kdd, y_kitsune]\n",
    "colors = ['blue', 'red', 'green']\n",
    "names = ['in', 'out', 'synthetic']\n",
    "databases = [\"CICIOT\", \"CREDIT\", \"ECG\", \"IDS\", \"KDD\", \"KITSUNE\"]\n",
    "fig, axs = plt.subplots(1, 6, figsize=(9, 2), sharex=True)\n",
    "sequence_length = 10\n",
    "for i in range(6):\n",
    "    seq = sequences[i]\n",
    "    lab = labels[i]\n",
    "    for j in range(3):\n",
    "        cat_sequences = seq[lab == j]\n",
    "        mean_sequence = np.mean(cat_sequences, axis=0)\n",
    "        std_sequence = np.std(cat_sequences, axis=0)\n",
    "        axs[i].plot(mean_sequence, color=colors[j], label=names[j])\n",
    "        axs[i].fill_between(range(sequence_length), mean_sequence - std_sequence, mean_sequence + std_sequence, color=colors[j], alpha=0.2)\n",
    "        #axs[i].set_title(databases[i])\n",
    "\n",
    "\n",
    "\n",
    "plt.tight_layout()\n",
    "plt.savefig(\"dynamics_space_two.png\")\n",
    "plt.show()\n"
   ]
  },
  {
   "cell_type": "code",
   "execution_count": null,
   "id": "abc9eaa9",
   "metadata": {},
   "outputs": [],
   "source": []
  }
 ],
 "metadata": {
  "kernelspec": {
   "display_name": "Python 3 (ipykernel)",
   "language": "python",
   "name": "python3"
  },
  "language_info": {
   "codemirror_mode": {
    "name": "ipython",
    "version": 3
   },
   "file_extension": ".py",
   "mimetype": "text/x-python",
   "name": "python",
   "nbconvert_exporter": "python",
   "pygments_lexer": "ipython3",
   "version": "3.9.16"
  }
 },
 "nbformat": 4,
 "nbformat_minor": 5
}
